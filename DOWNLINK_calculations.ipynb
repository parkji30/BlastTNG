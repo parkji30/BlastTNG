{
 "cells": [
  {
   "cell_type": "code",
   "execution_count": 2,
   "metadata": {},
   "outputs": [],
   "source": [
    "import numpy as np\n",
    "import matplotlib.pyplot as plt"
   ]
  },
  {
   "cell_type": "code",
   "execution_count": 3,
   "metadata": {},
   "outputs": [],
   "source": [
    "def angular_resolution(wavelength, diameter):\n",
    "    \"\"\"\n",
    "    Return the expected Angular Resolution\n",
    "    \n",
    "    Units are in radians\n",
    "    \"\"\"\n",
    "    angular_resolution = 1.22 * (wavelength / diameter)\n",
    "    return angular_resolution\n",
    "\n",
    "def sample_taken(frequency, move_speed, angular_size):\n",
    "    \"\"\"\n",
    "    frequency (sampling value): sample collection rate. (hertz)\n",
    "    move_speed: angle movement in the azimuth direction. (deg/azimuth)\n",
    "    angular_size: size of the source in the sky.\n",
    "    \n",
    "    1 degree in the sky refers to 3600 arcseconds\n",
    "    \"\"\"\n",
    "    spacing = (move_speed / frequency) # (degree / azimuth)\n",
    "    arc_seconds = 3600 * spacing # converting out spacing into arcseconds\n",
    "    num_samples = angular_size / arc_seconds\n",
    "    return num_samples"
   ]
  },
  {
   "cell_type": "code",
   "execution_count": 4,
   "metadata": {},
   "outputs": [
    {
     "name": "stdout",
     "output_type": "stream",
     "text": [
      "Angular Resolutions in Radians\n",
      "{'1.6 0.000175': 0.00013344, '1.6 0.00025': 0.00019062, '1.6 0.00035': 0.00026687}\n",
      "\n",
      "Angular Resolutions in Degrees\n",
      "{'1.6 0.000175': 0.00764541, '1.6 0.00025': 0.01092201, '1.6 0.00035': 0.01529081}\n"
     ]
    }
   ],
   "source": [
    "DIAMETERS = np.array([1.6])\n",
    "WAVELENGTH_mc = [175, 250, 350] # microns\n",
    "WAVELENGTH = np.array([wv * (1e-6) for wv in WAVELENGTH_mc]) # convert metres\n",
    "\n",
    "\n",
    "angular_resolutions = {}\n",
    "degrees = {}\n",
    "for dia in DIAMETERS:\n",
    "    for wvl in WAVELENGTH:\n",
    "        ang_res = angular_resolution(wavelength = wvl, diameter = dia)\n",
    "        angular_resolutions[str(round(dia, 7)) + \" \" + str(round(wvl, 7))] = round(angular_resolution(wvl, dia), 8)\n",
    "        degrees[str(round(dia, 7)) + \" \" + str(round(wvl, 7))] = round(angular_resolution(wvl, dia) * (180/np.pi), 8)\n",
    "        \n",
    "print(\"Angular Resolutions in Radians\")        \n",
    "print(angular_resolutions)\n",
    "\n",
    "print(\"\\nAngular Resolutions in Degrees\")\n",
    "print(degrees)"
   ]
  },
  {
   "cell_type": "code",
   "execution_count": 5,
   "metadata": {
    "scrolled": true
   },
   "outputs": [
    {
     "name": "stdout",
     "output_type": "stream",
     "text": [
      "Converting our Angular Resolutions in Degrees to Arcseconds...\n",
      "for 0.00764541 degrees it takes: 27.523476 arcseconds\n",
      "for 0.01092201 degrees it takes: 39.319236 arcseconds\n",
      "for 0.01529081 degrees it takes: 55.046916 arcseconds\n"
     ]
    }
   ],
   "source": [
    "# If we assume a movement speed of 0.1 arc degree / second, then what is the scanning speed?\n",
    "\n",
    "arc_seconds = []\n",
    "\n",
    "print(\"Converting our Angular Resolutions in Degrees to Arcseconds...\")\n",
    "for id in degrees:\n",
    "    print(\"for\", degrees[id], \"degrees it takes:\", round(3600*degrees[id], 7), \"arcseconds\")\n",
    "    arc_seconds.append(3600*degrees[id])"
   ]
  },
  {
   "cell_type": "code",
   "execution_count": 6,
   "metadata": {},
   "outputs": [],
   "source": [
    "# We know the speed of our scan to be 0.1 deg/sec -> 360 arcsecond/second\n",
    "# if the angular resolution is 35 arc seconds, then the time it takes to cross the FWHM of the beam once is\n",
    "# 35.642556 / 360 = 0.099 seconds\n",
    "# If we want to take 4 samples during the time it takes to cross the beam once, then 0.099 / 4 = 0.00275 seconds\n",
    "# which is how fast we would need to sample if we want to TAKE 4 samples per beam crossing.\n",
    "# so....\n",
    "\n",
    "beam_cross_time = []\n",
    "\n",
    "for arcsec in arc_seconds:\n",
    "    # we divide by 4 because we want at least 4 samples per beam crossing.\n",
    "    beam_cross_time.append((arcsec / 360) / 3)\n",
    "\n",
    "minimal_sampling_rate = {}\n",
    "\n",
    "index = 0\n",
    "for id in degrees:\n",
    "    minimal_sampling_rate[id] = (1/beam_cross_time[index])\n",
    "    index += 1\n",
    "    "
   ]
  },
  {
   "cell_type": "code",
   "execution_count": 7,
   "metadata": {},
   "outputs": [
    {
     "name": "stdout",
     "output_type": "stream",
     "text": [
      "\n",
      "Angular Resolution (Degree)\n",
      "for DIAMETER and WAVELENGTH(metres) of: 1.6 0.000175 our angular resolution in degrees is 0.00764541 degrees\n",
      "for DIAMETER and WAVELENGTH(metres) of: 1.6 0.00025 our angular resolution in degrees is 0.01092201 degrees\n",
      "for DIAMETER and WAVELENGTH(metres) of: 1.6 0.00035 our angular resolution in degrees is 0.01529081 degrees\n",
      "\n",
      "Angular Resolution (Arc Seconds)\n",
      "for DIAMETER and WAVELENGTH(metres) of: 27.523476 our angular resolution in arc seconds is 27.523476 degrees\n",
      "for DIAMETER and WAVELENGTH(metres) of: 39.319236 our angular resolution in arc seconds is 39.319236 degrees\n",
      "for DIAMETER and WAVELENGTH(metres) of: 55.046916 our angular resolution in arc seconds is 55.046916 degrees\n",
      "\n",
      "Sampling Rate\n",
      "for DIAMETER and WAVELENGTH of: 1.6 0.000175 our sampling rate is 39.23922981239724 hz\n",
      "for DIAMETER and WAVELENGTH of: 1.6 0.00025 our sampling rate is 27.467471646702396 hz\n",
      "for DIAMETER and WAVELENGTH of: 1.6 0.00035 our sampling rate is 19.61962773718331 hz\n"
     ]
    }
   ],
   "source": [
    "# Diplay our Angular Resolutions Clearly\n",
    "\n",
    "print(\"\\nAngular Resolution (Degree)\")\n",
    "for id in degrees:\n",
    "    print(\"for DIAMETER and WAVELENGTH(metres) of:\", id, \"our angular resolution in degrees is\", str(degrees[id]), \"degrees\")\n",
    "    \n",
    "    \n",
    "print(\"\\nAngular Resolution (Arc Seconds)\")\n",
    "for id in arc_seconds:\n",
    "    print(\"for DIAMETER and WAVELENGTH(metres) of:\", round(id, 7), \"our angular resolution in arc seconds is\", str(round(id, 7)), \"degrees\")\n",
    "        \n",
    "# Display our Minimal sampling rate Clearly\n",
    "\n",
    "\n",
    "print(\"\\nSampling Rate\")\n",
    "for id in minimal_sampling_rate:\n",
    "    print(\"for DIAMETER and WAVELENGTH of:\", id, \"our sampling rate is\", str(minimal_sampling_rate[id]), \"hz\")"
   ]
  },
  {
   "cell_type": "markdown",
   "metadata": {},
   "source": [
    "1600 - 175 microns\n",
    "850 - 250 microns\n",
    "490 - 350 microns\n",
    "\n",
    "Using this information, calculate the minimal sampling rate for each frequency band (sample rate will depend on the beam size). \n",
    "Then calculate, \n",
    "\n",
    "WE ASSUME THAT OUR NORMAL FREQUENCY RATE IS 100 HZ.\n",
    "\n",
    "Need to know the beam sizes.\n",
    "    - 27 arcseconds (175 microns)\n",
    "    - 39 arcseconds (250 microns)\n",
    "    - 54 arcseconds (350 microns)\n",
    "\n",
    "\n",
    "e.g. 250 micron is 80hz (assume factor of 5 compression from rice algorithm), calculate from a single detector, \n",
    "what the data rate will be.\n",
    "\n",
    "Knowing this, we can sum the data rate for all detectors for each bandwidth.\n",
    "\"\"\"\n",
    "print()"
   ]
  },
  {
   "cell_type": "code",
   "execution_count": 17,
   "metadata": {},
   "outputs": [],
   "source": [
    "def minimal_bandwidth(num_detectors, frequency, comp_factor=4.69):\n",
    "    \"\"\"\n",
    "    What is the minimal bandwidth?\n",
    "    \"\"\"\n",
    "    return num_detectors * frequency * 32 / comp_factor"
   ]
  },
  {
   "cell_type": "code",
   "execution_count": 18,
   "metadata": {},
   "outputs": [
    {
     "name": "stdout",
     "output_type": "stream",
     "text": [
      "856732.1108742002\n",
      "318593.7739872068\n",
      "131183.76119402982\n",
      "Our minimal downlink speed is therefore: 1.3065096460554368 mbits / second\n"
     ]
    }
   ],
   "source": [
    "min_frequencies = [39.239 * 2, 27.467 * 2, 19.619 * 2]  #175, 250, 350 microns respectively\n",
    "num_detectors = [1600, 850 , 490] # assuming we switch the number of detectors around...\n",
    "\n",
    "total_downlink = 0\n",
    "\n",
    "for i in range(3):\n",
    "    print((minimal_bandwidth(num_detectors[i], min_frequencies[i])))\n",
    "    total_downlink += (minimal_bandwidth(num_detectors[i], min_frequencies[i]))\n",
    "    \n",
    "print(\"Our minimal downlink speed is therefore: \" + str(total_downlink / 1e6), \"mbits / second\")"
   ]
  },
  {
   "cell_type": "code",
   "execution_count": 13,
   "metadata": {},
   "outputs": [
    {
     "name": "stdout",
     "output_type": "stream",
     "text": [
      "[78.478, 54.934, 39.238]\n"
     ]
    }
   ],
   "source": [
    "# Nyquist sampling \n",
    "print(min_frequencies)"
   ]
  },
  {
   "cell_type": "code",
   "execution_count": null,
   "metadata": {},
   "outputs": [],
   "source": []
  }
 ],
 "metadata": {
  "kernelspec": {
   "display_name": "Python 3",
   "language": "python",
   "name": "python3"
  },
  "language_info": {
   "codemirror_mode": {
    "name": "ipython",
    "version": 3
   },
   "file_extension": ".py",
   "mimetype": "text/x-python",
   "name": "python",
   "nbconvert_exporter": "python",
   "pygments_lexer": "ipython3",
   "version": "3.7.6"
  }
 },
 "nbformat": 4,
 "nbformat_minor": 4
}
