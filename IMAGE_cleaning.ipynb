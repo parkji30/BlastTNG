{
 "cells": [
  {
   "cell_type": "code",
   "execution_count": 18,
   "metadata": {},
   "outputs": [],
   "source": [
    "import numpy as np\n",
    "import os\n",
    "import astropy\n",
    "from astropy.io import fits\n",
    "import matplotlib.pyplot as plt\n",
    "from scipy import ndimage\n",
    "from PIL import Image\n",
    "from scipy.stats import binned_statistic"
   ]
  },
  {
   "cell_type": "code",
   "execution_count": 19,
   "metadata": {},
   "outputs": [],
   "source": [
    "def Imshow(image, title, save=False, im_name='', **kwargs):\n",
    "    \"\"\"\n",
    "    image: Image Array.\n",
    "    Title: Image Figure Name\n",
    "    save: Boolean, save image if True\n",
    "    im_name: Actual Image Name\n",
    "    \"\"\"\n",
    "#     Uncomment all this if you want to see the figures.\n",
    "#     plt.figure(figsize=(16,12))\n",
    "#     plt.title(title)\n",
    "#     plt.imshow(image, origin='lower', interpolation='none', **kwargs)\n",
    "#     plt.colorbar(shrink=0.8)\n",
    "#     plt.show()\n",
    "    if save:\n",
    "        image_name = im_name.split(\".\")\n",
    "        image_name = image_name[0]\n",
    "        print(image_name)\n",
    "        im = Image.fromarray(image)\n",
    "        if im.mode != 'RGB':\n",
    "            im = im.convert('RGB')\n",
    "        im.save(\"C:/Users/16472/Desktop/images_pngs/\" + image_name + \".png\")\n",
    "\n",
    "\n",
    "def show_ff_reduction(image, flat_field, im_nm, **kwargs):\n",
    "    \"\"\"\n",
    "    Show the FF reduced image along with its filtered versions.\n",
    "    \"\"\"\n",
    "    \n",
    "    # Original image mean subtraction\n",
    "    image_og = image - np.mean(image)\n",
    "\n",
    "    # Image after Flat Field Reduction\n",
    "    image_al = image / flat_field\n",
    "    image_al -= np.mean(image_al)\n",
    "    \n",
    "    # Apply Gaussian Filtering To the Image. Change vmin, vmax for scaling.\n",
    "    \n",
    "    #Imshow(image = ndimage.gaussian_filter(image_og-ndimage.gaussian_filter(image_og, sigma=5), sigma=3),vmin=0,vmax=60, title='(Gaussian Filtered) original')\n",
    "    Imshow(image = ndimage.gaussian_filter(image_al-ndimage.gaussian_filter(image_al, sigma=5), sigma=3),vmin=40,vmax=70, title='(Gaussian Filtered) flat field reduced', save=True, im_name = im_nm)"
   ]
  },
  {
   "cell_type": "code",
   "execution_count": 20,
   "metadata": {},
   "outputs": [
    {
     "name": "stdout",
     "output_type": "stream",
     "text": [
      "2020-01-07--00-00-26--212\n",
      "2020-01-07--00-01-12--038\n",
      "2020-01-07--00-01-57--831\n",
      "2020-01-07--00-02-43--632\n",
      "2020-01-07--00-03-29--449\n",
      "2020-01-07--00-04-15--268\n",
      "2020-01-07--00-05-01--067\n",
      "2020-01-07--00-05-10--243\n",
      "2020-01-07--00-05-48--089\n",
      "2020-01-07--00-06-23--510\n",
      "2020-01-07--00-07-01--305\n",
      "2020-01-07--00-07-36--668\n",
      "2020-01-07--00-08-14--463\n",
      "2020-01-07--00-08-49--844\n",
      "2020-01-07--00-09-27--646\n",
      "2020-01-07--00-10-03--092\n",
      "2020-01-07--00-10-40--842\n",
      "2020-01-07--00-11-16--292\n",
      "2020-01-07--00-11-54--050\n",
      "2020-01-07--00-12-29--438\n",
      "2020-01-07--00-13-07--274\n",
      "2020-01-07--00-13-53--077\n",
      "2020-01-07--00-14-38--894\n",
      "2020-01-07--00-15-24--708\n",
      "2020-01-07--00-16-10--512\n",
      "2020-01-07--00-16-56--324\n",
      "2020-01-07--00-17-42--120\n",
      "2020-01-07--00-18-27--934\n",
      "2020-01-07--00-18-40--774\n",
      "2020-01-07--00-19-18--710\n",
      "2020-01-07--00-19-53--953\n",
      "2020-01-07--00-20-31--829\n",
      "2020-01-07--00-21-07--258\n",
      "2020-01-07--00-21-53--085\n",
      "2020-01-07--00-22-38--875\n",
      "2020-01-07--00-23-24--690\n",
      "2020-01-07--00-23-33--098\n",
      "2020-01-07--00-24-11--065\n",
      "2020-01-07--00-24-46--460\n",
      "2020-01-07--00-25-24--472\n",
      "2020-01-07--00-25-59--905\n",
      "2020-01-07--00-26-37--952\n",
      "2020-01-07--00-27-23--767\n",
      "2020-01-07--00-28-09--567\n",
      "2020-01-07--00-28-55--374\n",
      "2020-01-07--00-29-41--180\n"
     ]
    }
   ],
   "source": [
    "## Apply Flat Field here and Save Image as jpg.\n",
    "os.chdir(\"C:/Users/16472/Desktop/\")\n",
    "xsc1_flat_field = np.load(\"xsc1_flat_field.npy\")\n",
    "\n",
    "os.chdir(\"C:/Users/16472/Desktop/image_cleaning\")\n",
    "for fits_file in os.listdir(\"C:/Users/16472/Desktop/image_cleaning\"):\n",
    "    hdul = astropy.io.fits.open(fits_file)\n",
    "    image_array = hdul[0].data\n",
    "    show_ff_reduction(image_array, xsc1_flat_field, im_nm=fits_file)"
   ]
  },
  {
   "cell_type": "code",
   "execution_count": null,
   "metadata": {},
   "outputs": [],
   "source": []
  }
 ],
 "metadata": {
  "kernelspec": {
   "display_name": "Python 3",
   "language": "python",
   "name": "python3"
  },
  "language_info": {
   "codemirror_mode": {
    "name": "ipython",
    "version": 3
   },
   "file_extension": ".py",
   "mimetype": "text/x-python",
   "name": "python",
   "nbconvert_exporter": "python",
   "pygments_lexer": "ipython3",
   "version": "3.7.6"
  }
 },
 "nbformat": 4,
 "nbformat_minor": 4
}
