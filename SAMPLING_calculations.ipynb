{
 "cells": [
  {
   "cell_type": "code",
   "execution_count": 35,
   "metadata": {},
   "outputs": [],
   "source": [
    "import numpy as np\n",
    "import matplotlib.pyplot as plt"
   ]
  },
  {
   "cell_type": "code",
   "execution_count": 71,
   "metadata": {},
   "outputs": [],
   "source": [
    "def angular_resolution(wavelength, diameter):\n",
    "    \"\"\"\n",
    "    Return the expected Angular Resolution\n",
    "    \n",
    "    Units are in radians\n",
    "    \"\"\"\n",
    "    angular_resolution = 1.44 * (wavelength / diameter)\n",
    "    return angular_resolution\n",
    "\n",
    "def sample_taken(frequency, move_speed, angular_size):\n",
    "    \"\"\"\n",
    "    frequency (sampling value): sample collection rate. (hertz)\n",
    "    move_speed: angle movement in the azimuth direction. (deg/azimuth)\n",
    "    angular_size: size of the source in the sky.\n",
    "    \n",
    "    1 degree in the sky refers to 3600 arcseconds\n",
    "    \"\"\"\n",
    "    spacing = (move_speed / frequency) # (degree / azimuth)\n",
    "    arc_seconds = 3600 * spacing # converting out spacing into arcseconds\n",
    "    num_samples = angular_size / arc_seconds\n",
    "    return num_samples"
   ]
  },
  {
   "cell_type": "code",
   "execution_count": 58,
   "metadata": {},
   "outputs": [
    {
     "name": "stdout",
     "output_type": "stream",
     "text": [
      "Angular Resolutions in Radians\n",
      "{'1.5 0.00018': 0.0001728, '1.5 0.00025': 0.00024, '1.5 0.00035': 0.000336, '1.8 0.00018': 0.000144, '1.8 0.00025': 0.0002, '1.8 0.00035': 0.00028}\n",
      "\n",
      "Angular Resolutions in Degrees\n",
      "{'1.5 0.00018': 0.00990071, '1.5 0.00025': 0.01375099, '1.5 0.00035': 0.01925138, '1.8 0.00018': 0.00825059, '1.8 0.00025': 0.01145916, '1.8 0.00035': 0.01604282}\n"
     ]
    }
   ],
   "source": [
    "DIAMETERS = np.array([1.5, 1.8])\n",
    "WAVELENGTH = [180, 250, 350] # microns\n",
    "WAVELENGTH = np.array([wv * (1e-6) for wv in WAVELENGTH]) # metres\n",
    "\n",
    "\n",
    "angular_resolutions = {}\n",
    "degrees = {}\n",
    "for dia in DIAMETERS:\n",
    "    for wvl in WAVELENGTH:\n",
    "        ang_res = angular_resolution(wavelength = wvl, diameter = dia)\n",
    "        angular_resolutions[str(round(dia, 7)) + \" \" + str(round(wvl, 7))] = round(angular_resolution(wvl, dia), 8)\n",
    "        degrees[str(round(dia, 7)) + \" \" + str(round(wvl, 7))] = round(angular_resolution(wvl, dia) * (180/np.pi), 8)\n",
    "        \n",
    "print(\"Angular Resolutions in Radians\")        \n",
    "print(angular_resolutions)\n",
    "\n",
    "print(\"\\nAngular Resolutions in Degrees\")\n",
    "print(degrees)"
   ]
  },
  {
   "cell_type": "code",
   "execution_count": 80,
   "metadata": {
    "scrolled": true
   },
   "outputs": [
    {
     "name": "stdout",
     "output_type": "stream",
     "text": [
      "Converting our Angular Resolutions in Degrees to Arcseconds...\n",
      "for 0.00990071 degrees it takes: 35.642556 arcseconds\n",
      "for 0.01375099 degrees it takes: 49.503564 arcseconds\n",
      "for 0.01925138 degrees it takes: 69.304968 arcseconds\n",
      "for 0.00825059 degrees it takes: 29.702124 arcseconds\n",
      "for 0.01145916 degrees it takes: 41.252976 arcseconds\n",
      "for 0.01604282 degrees it takes: 57.754152 arcseconds\n"
     ]
    }
   ],
   "source": [
    "# If we assume a movement speed of 0.1 arc degree / second, then what is the scanning speed?\n",
    "\n",
    "arc_seconds = []\n",
    "\n",
    "print(\"Converting our Angular Resolutions in Degrees to Arcseconds...\")\n",
    "for id in degrees:\n",
    "    print(\"for\", degrees[id], \"degrees it takes:\", round(3600*degrees[id], 7), \"arcseconds\")\n",
    "    arc_seconds.append(3600*degrees[id])"
   ]
  },
  {
   "cell_type": "code",
   "execution_count": 90,
   "metadata": {},
   "outputs": [
    {
     "name": "stdout",
     "output_type": "stream",
     "text": [
      "{'1.5 0.00018': 40.401142948334005, '1.5 0.00025': 29.088814696250964, '1.5 0.00035': 20.77773125874613, '1.8 0.00018': 48.48138133151689, '1.8 0.00025': 34.906572558547055, '1.8 0.00035': 24.933272329927036}\n"
     ]
    }
   ],
   "source": [
    "# We know the speed of our scan to be 0.1 deg/sec -> 360 arcsecond/second\n",
    "# if the angular resolution is 35 arc seconds, then the time it takes to cross the FWHM of the beam once is\n",
    "# 35.642556 / 360 = 0.099 seconds\n",
    "# If we want to take 4 samples during the time it takes to cross the beam once, then 0.099 / 4 = 0.00275 seconds\n",
    "# which is how fast we would need to sample if we want to TAKE 4 samples per beam crossing.\n",
    "# so....\n",
    "\n",
    "beam_cross_time = []\n",
    "\n",
    "for arcsec in arc_seconds:\n",
    "    # we divide by 4 because we want at least 4 samples per beam crossing.\n",
    "    beam_cross_time.append((arcsec/360)/4)\n",
    "\n",
    "minimal_sampling_rate = {}\n",
    "\n",
    "index = 0\n",
    "for id in degrees:\n",
    "    minimal_sampling_rate[id] = (1/beam_cross_time[index])\n",
    "    index += 1\n",
    "    "
   ]
  },
  {
   "cell_type": "code",
   "execution_count": 105,
   "metadata": {},
   "outputs": [
    {
     "name": "stdout",
     "output_type": "stream",
     "text": [
      "\n",
      "Angular Resolution (Degree)\n",
      "for DIAMETER and WAVELENGTH(metres) of: 1.5 0.00018 our angular resolution in degrees is 0.00990071 degrees\n",
      "for DIAMETER and WAVELENGTH(metres) of: 1.5 0.00025 our angular resolution in degrees is 0.01375099 degrees\n",
      "for DIAMETER and WAVELENGTH(metres) of: 1.5 0.00035 our angular resolution in degrees is 0.01925138 degrees\n",
      "for DIAMETER and WAVELENGTH(metres) of: 1.8 0.00018 our angular resolution in degrees is 0.00825059 degrees\n",
      "for DIAMETER and WAVELENGTH(metres) of: 1.8 0.00025 our angular resolution in degrees is 0.01145916 degrees\n",
      "for DIAMETER and WAVELENGTH(metres) of: 1.8 0.00035 our angular resolution in degrees is 0.01604282 degrees\n",
      "\n",
      "Angular Resolution (Arc Seconds)\n",
      "for DIAMETER and WAVELENGTH(metres) of: 35.642556 our angular resolution in degrees is 35.642556 degrees\n",
      "for DIAMETER and WAVELENGTH(metres) of: 49.503564 our angular resolution in degrees is 49.503564 degrees\n",
      "for DIAMETER and WAVELENGTH(metres) of: 69.304968 our angular resolution in degrees is 69.304968 degrees\n",
      "for DIAMETER and WAVELENGTH(metres) of: 29.702124 our angular resolution in degrees is 29.702124 degrees\n",
      "for DIAMETER and WAVELENGTH(metres) of: 41.252976 our angular resolution in degrees is 41.252976 degrees\n",
      "for DIAMETER and WAVELENGTH(metres) of: 57.754152 our angular resolution in degrees is 57.754152 degrees\n",
      "\n",
      "Sampling Rate\n",
      "for DIAMETER and WAVELENGTH of: 1.5 0.00018 our angular resolution in degrees is 40.401142948334005 hz\n",
      "for DIAMETER and WAVELENGTH of: 1.5 0.00025 our angular resolution in degrees is 29.088814696250964 hz\n",
      "for DIAMETER and WAVELENGTH of: 1.5 0.00035 our angular resolution in degrees is 20.77773125874613 hz\n",
      "for DIAMETER and WAVELENGTH of: 1.8 0.00018 our angular resolution in degrees is 48.48138133151689 hz\n",
      "for DIAMETER and WAVELENGTH of: 1.8 0.00025 our angular resolution in degrees is 34.906572558547055 hz\n",
      "for DIAMETER and WAVELENGTH of: 1.8 0.00035 our angular resolution in degrees is 24.933272329927036 hz\n"
     ]
    }
   ],
   "source": [
    "# Diplay our Angular Resolutions Clearly\n",
    "\n",
    "print(\"\\nAngular Resolution (Degree)\")\n",
    "for id in degrees:\n",
    "    print(\"for DIAMETER and WAVELENGTH(metres) of:\", id, \"our angular resolution in degrees is\", str(degrees[id]), \"degrees\")\n",
    "    \n",
    "    \n",
    "print(\"\\nAngular Resolution (Arc Seconds)\")\n",
    "for id in arc_seconds:\n",
    "    print(\"for DIAMETER and WAVELENGTH(metres) of:\", round(id, 7), \"our angular resolution in degrees is\", str(round(id, 7)), \"degrees\")\n",
    "        \n",
    "# Display our Minimal sampling rate Clearly\n",
    "\n",
    "\n",
    "print(\"\\nSampling Rate\")\n",
    "for id in minimal_sampling_rate:\n",
    "    print(\"for DIAMETER and WAVELENGTH of:\", id, \"our angular resolution in degrees is\", str(minimal_sampling_rate[id]), \"hz\")"
   ]
  },
  {
   "cell_type": "code",
   "execution_count": null,
   "metadata": {},
   "outputs": [],
   "source": []
  }
 ],
 "metadata": {
  "kernelspec": {
   "display_name": "Python 3",
   "language": "python",
   "name": "python3"
  },
  "language_info": {
   "codemirror_mode": {
    "name": "ipython",
    "version": 3
   },
   "file_extension": ".py",
   "mimetype": "text/x-python",
   "name": "python",
   "nbconvert_exporter": "python",
   "pygments_lexer": "ipython3",
   "version": "3.7.6"
  }
 },
 "nbformat": 4,
 "nbformat_minor": 4
}
